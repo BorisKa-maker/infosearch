{
 "cells": [
  {
   "cell_type": "code",
   "execution_count": null,
   "metadata": {},
   "outputs": [],
   "source": [
    "!pip install dill"
   ]
  },
  {
   "cell_type": "code",
   "execution_count": null,
   "metadata": {},
   "outputs": [],
   "source": [
    "import sys\n",
    "print (sys.version)"
   ]
  },
  {
   "cell_type": "code",
   "execution_count": null,
   "metadata": {},
   "outputs": [],
   "source": [
    "from tensorflow.python.client import device_lib\n",
    "def get_available_devices():\n",
    "    local_device_protos = device_lib.list_local_devices()\n",
    "    return [x.name for x in local_device_protos]\n",
    "print(get_available_devices()) "
   ]
  },
  {
   "cell_type": "code",
   "execution_count": 1,
   "metadata": {},
   "outputs": [],
   "source": [
    "import pickle\n",
    "import tensorflow as tf\n",
    "import tensorflow_hub as hub\n",
    "import numpy as np\n",
    "import tensorflow_text\n",
    "from tqdm.notebook import tqdm\n",
    "import dill\n",
    "from copy import deepcopy"
   ]
  },
  {
   "cell_type": "code",
   "execution_count": 2,
   "metadata": {},
   "outputs": [],
   "source": [
    "with open('containers.pkl','rb') as f:\n",
    "    containers = pickle.load(f)\n",
    "with open('id_queries.pkl','rb') as f:\n",
    "    id_queries = pickle.load(f)\n",
    "with open('url_docname.pkl','rb') as f:\n",
    "    url_docname = pickle.load(f)\n",
    "with open('docid_urls.pkl','rb') as f:\n",
    "    id_urls = pickle.load(f)\n",
    "with open('id_docs.pkl','rb') as f:\n",
    "    id_docs = pickle.load(f)\n",
    "with open('top_1000.pkl','rb') as f:\n",
    "    top_1000 = pickle.load(f)\n",
    "url_docname['kak-gta-san-andreas-sest-na-perednee-sidene.blogbuzz.pp.ru'] = 'content/content/20170702/doc.0087.dat'\n",
    "\n",
    "lines =[]\n",
    "with open('sample.technosphere.ir1.textrelevance.submission.txt') as f:\n",
    "    for line in f:\n",
    "        lines.append(line[:-1])"
   ]
  },
  {
   "cell_type": "code",
   "execution_count": 3,
   "metadata": {},
   "outputs": [],
   "source": [
    "from collections import defaultdict\n",
    "sample = defaultdict(list)\n",
    "for line in lines[1:]:\n",
    "    sample[int(line.split(',')[0])].append(int(line.split(',')[1]))"
   ]
  },
  {
   "cell_type": "code",
   "execution_count": 4,
   "metadata": {},
   "outputs": [
    {
     "data": {
      "application/vnd.jupyter.widget-view+json": {
       "model_id": "a4f0aefff32143538f43103bffc17e18",
       "version_major": 2,
       "version_minor": 0
      },
      "text/plain": [
       "HBox(children=(FloatProgress(value=0.0, max=399.0), HTML(value='')))"
      ]
     },
     "metadata": {},
     "output_type": "display_data"
    },
    {
     "name": "stdout",
     "output_type": "stream",
     "text": [
      "\n"
     ]
    }
   ],
   "source": [
    "module = hub.load('https://tfhub.dev/google/universal-sentence-encoder-qa/3')\n",
    "rank = []\n",
    "error = []\n",
    "ranked = {}\n",
    "for ad in tqdm(range(1,400)):\n",
    "    try:\n",
    "        docs = sample[ad]\n",
    "        norm_tok_query = [id_queries[ad]]\n",
    "        norm_corpus = []\n",
    "        for doc in docs:\n",
    "            norm_corpus.append(containers[url_docname[id_urls[doc]]][0])\n",
    "        question_embeddings = module.signatures['question_encoder'](\n",
    "        tf.constant(norm_tok_query))\n",
    "\n",
    "        response_embeddings = module.signatures['response_encoder'](\n",
    "            input=tf.constant(norm_corpus),\n",
    "            context=tf.constant(norm_corpus))\n",
    "\n",
    "        doc_scores = np.inner(question_embeddings['outputs'], response_embeddings['outputs'])\n",
    "        tmp = {}\n",
    "        for i in range(len(docs)):\n",
    "            tmp[docs[i]] = doc_scores[0,i]\n",
    "        ranked[ad] = tmp\n",
    "    except:\n",
    "        error.append(ad)"
   ]
  },
  {
   "cell_type": "code",
   "execution_count": 17,
   "metadata": {},
   "outputs": [
    {
     "data": {
      "application/vnd.jupyter.widget-view+json": {
       "model_id": "08334c5d2a414ab79632f5a7633768eb",
       "version_major": 2,
       "version_minor": 0
      },
      "text/plain": [
       "HBox(children=(FloatProgress(value=0.0, max=1.0), HTML(value='')))"
      ]
     },
     "metadata": {},
     "output_type": "display_data"
    },
    {
     "name": "stdout",
     "output_type": "stream",
     "text": [
      "\n"
     ]
    }
   ],
   "source": [
    "new_error = []\n",
    "for ad in tqdm([75]):\n",
    "    try:\n",
    "        docs = sample[ad]\n",
    "        norm_tok_query = [id_queries[ad]]\n",
    "        norm_corpus = []\n",
    "        counter = 0\n",
    "        for doc in docs:\n",
    "            if counter >=30:\n",
    "                break\n",
    "            norm_corpus.append(containers[url_docname[id_urls[doc]]][0])\n",
    "            counter += 1\n",
    "        question_embeddings = module.signatures['question_encoder'](\n",
    "        tf.constant(norm_tok_query))\n",
    "\n",
    "        response_embeddings = module.signatures['response_encoder'](\n",
    "            input=tf.constant(norm_corpus),\n",
    "            context=tf.constant(norm_corpus))\n",
    "\n",
    "        doc_scores = np.inner(question_embeddings['outputs'], response_embeddings['outputs'])\n",
    "\n",
    "        counter = 0\n",
    "        for i in range(len(docs)):\n",
    "            if counter >=30:\n",
    "                break\n",
    "            tmp[docs[i]] = doc_scores[0,i]\n",
    "            counter += 1\n",
    "        ranked[ad] = tmp\n",
    "    except:\n",
    "        new_error.append(ad)"
   ]
  },
  {
   "cell_type": "code",
   "execution_count": 24,
   "metadata": {},
   "outputs": [],
   "source": [
    "top_10 = {}\n",
    "for k in ranked.keys():\n",
    "    top_10[k] = sorted(ranked[k].items(),key = lambda x: x[1])[:10]"
   ]
  },
  {
   "cell_type": "code",
   "execution_count": 25,
   "metadata": {},
   "outputs": [
    {
     "data": {
      "text/plain": [
       "{38010: 0.19705153,\n",
       " 38011: 0.39549857,\n",
       " 38012: 0.26911062,\n",
       " 38013: 0.2587829,\n",
       " 38014: 0.39501983,\n",
       " 38015: 0.38566628,\n",
       " 38016: 0.4029767,\n",
       " 38017: 0.39295006,\n",
       " 38018: 0.38016173,\n",
       " 38019: 0.45040858,\n",
       " 38020: 0.19705153,\n",
       " 38021: 0.42105237,\n",
       " 38022: 0.4038689,\n",
       " 38023: 0.417626,\n",
       " 38024: 0.4285483,\n",
       " 38025: 0.19705153,\n",
       " 38026: 0.4134861,\n",
       " 38027: 0.19705153,\n",
       " 38028: 0.19705153,\n",
       " 38029: 0.41252518,\n",
       " 38030: 0.19705153,\n",
       " 38031: 0.4090132,\n",
       " 38032: 0.42517906,\n",
       " 38033: 0.45907497,\n",
       " 38034: 0.3959894,\n",
       " 38035: 0.42778367,\n",
       " 38036: 0.4312238,\n",
       " 38037: 0.34394562,\n",
       " 38038: 0.38288075,\n",
       " 38039: 0.40624672,\n",
       " 38040: 0.41399464,\n",
       " 38041: 0.3967619,\n",
       " 38042: 0.41574115,\n",
       " 38043: 0.39273793,\n",
       " 38044: 0.38983685,\n",
       " 38045: 0.4233424,\n",
       " 38046: 0.39902908,\n",
       " 38047: 0.19705153,\n",
       " 38048: 0.42845142,\n",
       " 38049: 0.4405154,\n",
       " 38050: 0.45062542,\n",
       " 38051: 0.39982715,\n",
       " 38052: 0.3546704,\n",
       " 38053: 0.39976698,\n",
       " 38054: 0.19705153,\n",
       " 38055: 0.19705153,\n",
       " 38056: 0.41808408,\n",
       " 38057: 0.41042376,\n",
       " 38058: 0.41602623,\n",
       " 38059: 0.272721,\n",
       " 38060: 0.19705153,\n",
       " 38061: 0.23968178,\n",
       " 38062: 0.40980428,\n",
       " 38063: 0.41594332,\n",
       " 38064: 0.3912235,\n",
       " 38065: 0.41528973,\n",
       " 38066: 0.26575118,\n",
       " 38067: 0.45251918,\n",
       " 38068: 0.4109406,\n",
       " 38069: 0.40464035,\n",
       " 38070: 0.2603569,\n",
       " 38071: 0.40927258,\n",
       " 38072: 0.41975224,\n",
       " 38073: 0.4072885,\n",
       " 38074: 0.41611347,\n",
       " 38075: 0.40004444,\n",
       " 38076: 0.38566628,\n",
       " 38077: 0.41309237,\n",
       " 38078: 0.38057894,\n",
       " 38079: 0.41766423,\n",
       " 38080: 0.43846548,\n",
       " 38081: 0.4149329,\n",
       " 38082: 0.3842821,\n",
       " 38083: 0.39344266,\n",
       " 38084: 0.41104382,\n",
       " 38085: 0.4081871,\n",
       " 38086: 0.37566403,\n",
       " 38087: 0.38310963,\n",
       " 38088: 0.4429093,\n",
       " 38089: 0.41572532,\n",
       " 38090: 0.4180276,\n",
       " 38091: 0.3062779,\n",
       " 38092: 0.41317552,\n",
       " 38093: 0.19705153,\n",
       " 38094: 0.46086568,\n",
       " 38095: 0.22852924,\n",
       " 38096: 0.2641232,\n",
       " 38097: 0.3656457,\n",
       " 38098: 0.40478748,\n",
       " 38099: 0.39783373,\n",
       " 38100: 0.43741634,\n",
       " 38101: 0.19705153,\n",
       " 38102: 0.3619685,\n",
       " 38103: 0.41223428,\n",
       " 38104: 0.19705153,\n",
       " 38105: 0.3955887,\n",
       " 38106: 0.37135565,\n",
       " 38107: 0.42365715,\n",
       " 38108: 0.3721438,\n",
       " 38109: 0.40420246,\n",
       " 38110: 0.4422292,\n",
       " 38111: 0.19705153,\n",
       " 38112: 0.4136359,\n",
       " 38113: 0.1970515,\n",
       " 38114: 0.4069299,\n",
       " 37690: 0.49482054,\n",
       " 37691: 0.24672846,\n",
       " 37692: 0.42615247,\n",
       " 37693: 0.41944045,\n",
       " 37694: 0.2644547,\n",
       " 37695: 0.44927493,\n",
       " 37696: 0.41087294,\n",
       " 37697: 0.47610772,\n",
       " 37698: 0.19839615,\n",
       " 37699: 0.23399732,\n",
       " 37700: 0.19839615,\n",
       " 37701: 0.24336955,\n",
       " 37702: 0.2389555,\n",
       " 37703: 0.42342305,\n",
       " 37704: 0.45443815,\n",
       " 37705: 0.4322418,\n",
       " 37706: 0.3344636,\n",
       " 37707: 0.25687832,\n",
       " 37708: 0.48176628,\n",
       " 37709: 0.2045031,\n",
       " 37710: 0.41434544,\n",
       " 37711: 0.19839615,\n",
       " 37712: 0.4192819,\n",
       " 37713: 0.40627527,\n",
       " 37714: 0.22596666,\n",
       " 37715: 0.425254,\n",
       " 37716: 0.42778486,\n",
       " 37717: 0.15897538,\n",
       " 37718: 0.13763456,\n",
       " 37719: 0.257646,\n",
       " 37720: 0.21651268,\n",
       " 7127: 0.2717924,\n",
       " 37721: 0.24795651,\n",
       " 19143: 0.19839615,\n",
       " 37722: 0.4494845,\n",
       " 37723: 0.26218337,\n",
       " 37724: 0.5528026,\n",
       " 37725: 0.21270353,\n",
       " 37726: 0.36066112,\n",
       " 37727: 0.40868622,\n",
       " 37728: 0.4159665,\n",
       " 37729: 0.27169865,\n",
       " 37730: 0.493072,\n",
       " 37731: 0.4637069,\n",
       " 37732: 0.4570918,\n",
       " 37733: 0.19225603,\n",
       " 37734: 0.19839615,\n",
       " 37735: 0.51369584,\n",
       " 37736: 0.1983962,\n",
       " 37737: 0.21610673,\n",
       " 7100: 0.2251276,\n",
       " 7101: 0.39036694,\n",
       " 7102: 0.2608117,\n",
       " 7103: 0.38138014,\n",
       " 7104: 0.2286457,\n",
       " 7105: 0.4001578,\n",
       " 7106: 0.36947292,\n",
       " 7107: 0.37973797,\n",
       " 7108: 0.3412974,\n",
       " 7109: 0.2150836,\n",
       " 7110: 0.31447625,\n",
       " 7111: 0.29165235,\n",
       " 7112: 0.4000544,\n",
       " 7113: 0.22358812,\n",
       " 7114: 0.39046997,\n",
       " 7115: 0.24653926,\n",
       " 7116: 0.22671336,\n",
       " 7117: 0.3757196,\n",
       " 7118: 0.22852632,\n",
       " 7119: 0.21227841,\n",
       " 7120: 0.38967764,\n",
       " 7121: 0.17547387,\n",
       " 7122: 0.21343698,\n",
       " 7123: 0.40369278,\n",
       " 7124: 0.36017144,\n",
       " 7125: 0.19389942,\n",
       " 5384: 0.2751336,\n",
       " 7126: 0.36147723,\n",
       " 5785: 0.3675285}"
      ]
     },
     "execution_count": 25,
     "metadata": {},
     "output_type": "execute_result"
    }
   ],
   "source": [
    "ranked[399]"
   ]
  },
  {
   "cell_type": "code",
   "execution_count": 26,
   "metadata": {},
   "outputs": [
    {
     "data": {
      "text/plain": [
       "[(37718, 0.13763456),\n",
       " (37717, 0.15897538),\n",
       " (7121, 0.17547387),\n",
       " (37733, 0.19225603),\n",
       " (7125, 0.19389942),\n",
       " (38113, 0.1970515),\n",
       " (38010, 0.19705153),\n",
       " (38020, 0.19705153),\n",
       " (38025, 0.19705153),\n",
       " (38027, 0.19705153)]"
      ]
     },
     "execution_count": 26,
     "metadata": {},
     "output_type": "execute_result"
    }
   ],
   "source": [
    "top_10[399]"
   ]
  },
  {
   "cell_type": "code",
   "execution_count": null,
   "metadata": {},
   "outputs": [],
   "source": [
    "sample[399]"
   ]
  },
  {
   "cell_type": "code",
   "execution_count": 27,
   "metadata": {},
   "outputs": [],
   "source": [
    "with open('sub.txt','w') as f:\n",
    "    f.write('QueryId,DocumentId\\n')\n",
    "    for i in range(1,400):\n",
    "        for item in top_10[i]:\n",
    "            f.write('{},{}\\n'.format(i,item[0]))"
   ]
  }
 ],
 "metadata": {
  "kernelspec": {
   "display_name": "Python 3",
   "language": "python",
   "name": "python3"
  },
  "language_info": {
   "codemirror_mode": {
    "name": "ipython",
    "version": 3
   },
   "file_extension": ".py",
   "mimetype": "text/x-python",
   "name": "python",
   "nbconvert_exporter": "python",
   "pygments_lexer": "ipython3",
   "version": "3.7.1"
  }
 },
 "nbformat": 4,
 "nbformat_minor": 4
}
